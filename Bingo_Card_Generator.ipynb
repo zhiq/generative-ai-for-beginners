{
  "nbformat": 4,
  "nbformat_minor": 0,
  "metadata": {
    "colab": {
      "provenance": [],
      "mount_file_id": "1V__eBRkwPVAnrn9p_tuXMm4ZH9JJZIQ8",
      "authorship_tag": "ABX9TyMkBParWQKriw9osSz2QnJI",
      "include_colab_link": true
    },
    "kernelspec": {
      "name": "python3",
      "display_name": "Python 3"
    },
    "language_info": {
      "name": "python"
    }
  },
  "cells": [
    {
      "cell_type": "markdown",
      "metadata": {
        "id": "view-in-github",
        "colab_type": "text"
      },
      "source": [
        "<a href=\"https://colab.research.google.com/github/zhiq/generative-ai-for-beginners/blob/main/Bingo_Card_Generator.ipynb\" target=\"_parent\"><img src=\"https://colab.research.google.com/assets/colab-badge.svg\" alt=\"Open In Colab\"/></a>"
      ]
    },
    {
      "cell_type": "code",
      "execution_count": 1,
      "metadata": {
        "colab": {
          "base_uri": "https://localhost:8080/"
        },
        "id": "8I56CLzI1NUg",
        "outputId": "7ac443c6-41c0-47c8-a80e-10a03674ac83"
      },
      "outputs": [
        {
          "output_type": "stream",
          "name": "stdout",
          "text": [
            "\u001b[32mBingo Card Generator\u001b[0m\n",
            "+-----+-----+-----+-----+\n",
            "|  30   |   6   |  19   |\n",
            "+-----+-----+-----+-----+\n",
            "|  32   | BINGO |  74   |\n",
            "+-----+-----+-----+-----+\n",
            "|  85   |  52   |  53   |\n",
            "+-----+-----+-----+-----+\n"
          ]
        }
      ],
      "source": [
        "# randomly generate 8 numbers between 0 and 90; no number repeat.\n",
        "import random\n",
        "\n",
        "def randomizer():\n",
        "  rand_number = random.sample(range(0, 90), 8)\n",
        "  return rand_number\n",
        "\n",
        "# allocate each number in a 2D list; center of the card is the word BINGO.\n",
        "# a variable to store the 9 random numbers generated.\n",
        "bingoNumber = randomizer()\n",
        "\n",
        "bingoList = [[bingoNumber[0], bingoNumber[1], bingoNumber[2]],\n",
        "            [bingoNumber[3], \"BINGO\", bingoNumber[4]],\n",
        "            [bingoNumber[5], bingoNumber[6], bingoNumber[7]]]\n",
        "\n",
        "\n",
        "# Allocate each number in a 2D list; center of the card is the word BINGO.\n",
        "# A variable to store the 9 random numbers generated.\n",
        "bingoNumbers = randomizer()\n",
        "\n",
        "bingoList = [[bingoNumbers[0], bingoNumbers[1], bingoNumbers[2]],\n",
        "             [bingoNumbers[3], \"BINGO\", bingoNumbers[4]],\n",
        "             [bingoNumbers[5], bingoNumbers[6], bingoNumbers[7]]]\n",
        "\n",
        "# Create a 3x3 2D list with each element initialized to the list of random numbers\n",
        "# Print the BINGO card with proper alignment and lines\n",
        "def print_bingo_card(card):\n",
        "  print(\"\\033[32mBingo Card Generator\\033[0m\")\n",
        "  print(\"+-----+-----+-----+-----+\")\n",
        "  for row in card:\n",
        "    print(\"|\", end=\"\")\n",
        "    for col in row:\n",
        "      if col == \"BINGO\":\n",
        "        print(\"{:^7}\".format(col), end=\"|\")\n",
        "      else:\n",
        "        print(\"{:^7}\".format(col), end=\"|\")\n",
        "    print(\"\\n+-----+-----+-----+-----+\")\n",
        "\n",
        "print_bingo_card(bingoList)"
      ]
    }
  ]
}